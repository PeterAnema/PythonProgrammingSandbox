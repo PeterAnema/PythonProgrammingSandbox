{
 "cells": [
  {
   "cell_type": "markdown",
   "metadata": {},
   "source": [
    "## Comprehensions"
   ]
  },
  {
   "cell_type": "markdown",
   "metadata": {},
   "source": [
    "Van een bestand list een nieuwe list maken"
   ]
  },
  {
   "cell_type": "code",
   "execution_count": 2,
   "metadata": {},
   "outputs": [],
   "source": [
    "getallen = [2, 6, 3, 7, 3, 45, 6]"
   ]
  },
  {
   "cell_type": "code",
   "execution_count": 9,
   "metadata": {},
   "outputs": [],
   "source": [
    "kwadraten = []\n",
    "for getal in getallen:\n",
    "    kwadraten.append(getal ** 2)"
   ]
  },
  {
   "cell_type": "code",
   "execution_count": 10,
   "metadata": {},
   "outputs": [
    {
     "name": "stdout",
     "output_type": "stream",
     "text": [
      "[4, 36, 9, 49, 9, 2025, 36]\n"
     ]
    }
   ],
   "source": [
    "print(kwadraten)"
   ]
  },
  {
   "cell_type": "code",
   "execution_count": 11,
   "metadata": {},
   "outputs": [
    {
     "data": {
      "text/plain": [
       "[4, 36, 9, 49, 9, 2025, 36]"
      ]
     },
     "execution_count": 11,
     "metadata": {},
     "output_type": "execute_result"
    }
   ],
   "source": [
    "[getal ** 2 for getal in getallen]"
   ]
  },
  {
   "cell_type": "code",
   "execution_count": 12,
   "metadata": {},
   "outputs": [
    {
     "data": {
      "text/plain": [
       "{4, 9, 36, 49, 2025}"
      ]
     },
     "execution_count": 12,
     "metadata": {},
     "output_type": "execute_result"
    }
   ],
   "source": [
    "{getal ** 2 for getal in getallen}"
   ]
  },
  {
   "cell_type": "code",
   "execution_count": 18,
   "metadata": {},
   "outputs": [
    {
     "data": {
      "text/plain": [
       "{2: [4, 8], 6: [36, 216], 3: [9, 27], 7: [49, 343], 45: [2025, 91125]}"
      ]
     },
     "execution_count": 18,
     "metadata": {},
     "output_type": "execute_result"
    }
   ],
   "source": [
    "{getal: [getal ** 2, getal ** 3] for getal in getallen}"
   ]
  },
  {
   "cell_type": "code",
   "execution_count": null,
   "metadata": {},
   "outputs": [],
   "source": []
  },
  {
   "cell_type": "code",
   "execution_count": 14,
   "metadata": {},
   "outputs": [],
   "source": []
  },
  {
   "cell_type": "code",
   "execution_count": 19,
   "metadata": {},
   "outputs": [],
   "source": [
    "foods = ['pizza','macaroni','paella','stamppot']"
   ]
  },
  {
   "cell_type": "code",
   "execution_count": 20,
   "metadata": {},
   "outputs": [
    {
     "data": {
      "text/plain": [
       "['pizza', 'macaroni', 'paella', 'stamppot']"
      ]
     },
     "execution_count": 20,
     "metadata": {},
     "output_type": "execute_result"
    }
   ],
   "source": [
    "foods"
   ]
  },
  {
   "cell_type": "code",
   "execution_count": 34,
   "metadata": {},
   "outputs": [
    {
     "data": {
      "text/plain": [
       "['pizza', 'macaroni', 'paella', 'stamppot']"
      ]
     },
     "execution_count": 34,
     "metadata": {},
     "output_type": "execute_result"
    }
   ],
   "source": [
    "foods[:]"
   ]
  },
  {
   "cell_type": "code",
   "execution_count": null,
   "metadata": {},
   "outputs": [],
   "source": []
  },
  {
   "cell_type": "code",
   "execution_count": 35,
   "metadata": {},
   "outputs": [],
   "source": [
    "kopie = foods[:]\n",
    "kopie = list(foods)\n",
    "kopie = foods.copy()"
   ]
  },
  {
   "cell_type": "code",
   "execution_count": 36,
   "metadata": {},
   "outputs": [
    {
     "data": {
      "text/plain": [
       "['pizza', 'macaroni', 'paella', 'stamppot']"
      ]
     },
     "execution_count": 36,
     "metadata": {},
     "output_type": "execute_result"
    }
   ],
   "source": [
    "kopie"
   ]
  },
  {
   "cell_type": "code",
   "execution_count": 37,
   "metadata": {},
   "outputs": [],
   "source": [
    "foods.append('patat')"
   ]
  },
  {
   "cell_type": "code",
   "execution_count": 38,
   "metadata": {},
   "outputs": [],
   "source": [
    "foods.append('kip')"
   ]
  },
  {
   "cell_type": "code",
   "execution_count": 39,
   "metadata": {},
   "outputs": [
    {
     "data": {
      "text/plain": [
       "['pizza', 'macaroni', 'paella', 'stamppot', 'patat', 'kip']"
      ]
     },
     "execution_count": 39,
     "metadata": {},
     "output_type": "execute_result"
    }
   ],
   "source": [
    "foods"
   ]
  },
  {
   "cell_type": "code",
   "execution_count": 40,
   "metadata": {},
   "outputs": [
    {
     "data": {
      "text/plain": [
       "['pizza', 'macaroni', 'paella', 'stamppot', 'patat', 'kip']"
      ]
     },
     "execution_count": 40,
     "metadata": {},
     "output_type": "execute_result"
    }
   ],
   "source": [
    "kopie"
   ]
  },
  {
   "cell_type": "code",
   "execution_count": 49,
   "metadata": {},
   "outputs": [
    {
     "data": {
      "text/plain": [
       "(1, 2, 3, 2, 3, 4)"
      ]
     },
     "execution_count": 49,
     "metadata": {},
     "output_type": "execute_result"
    }
   ],
   "source": [
    "t1 = (1,2,3)\n",
    "t2 = (2,3,4)\n",
    "t1 + t2"
   ]
  },
  {
   "cell_type": "code",
   "execution_count": 50,
   "metadata": {},
   "outputs": [
    {
     "data": {
      "text/plain": [
       "'abcxyz'"
      ]
     },
     "execution_count": 50,
     "metadata": {},
     "output_type": "execute_result"
    }
   ],
   "source": [
    "'abc' + 'xyz'"
   ]
  },
  {
   "cell_type": "code",
   "execution_count": 51,
   "metadata": {},
   "outputs": [
    {
     "data": {
      "text/plain": [
       "(1, 2, 3, 5, 6, 7)"
      ]
     },
     "execution_count": 51,
     "metadata": {},
     "output_type": "execute_result"
    }
   ],
   "source": [
    "t1 = t1 + (5,6,7)\n",
    "t1"
   ]
  },
  {
   "cell_type": "code",
   "execution_count": 52,
   "metadata": {},
   "outputs": [],
   "source": [
    "naam = 'Peter'\n",
    "naam = 'Pim'"
   ]
  },
  {
   "cell_type": "code",
   "execution_count": 53,
   "metadata": {},
   "outputs": [
    {
     "data": {
      "text/plain": [
       "'Pim'"
      ]
     },
     "execution_count": 53,
     "metadata": {},
     "output_type": "execute_result"
    }
   ],
   "source": [
    "naam"
   ]
  },
  {
   "cell_type": "code",
   "execution_count": 55,
   "metadata": {},
   "outputs": [
    {
     "data": {
      "text/plain": [
       "7"
      ]
     },
     "execution_count": 55,
     "metadata": {},
     "output_type": "execute_result"
    }
   ],
   "source": [
    "max(t1)"
   ]
  },
  {
   "cell_type": "code",
   "execution_count": null,
   "metadata": {},
   "outputs": [],
   "source": []
  },
  {
   "cell_type": "code",
   "execution_count": 56,
   "metadata": {},
   "outputs": [],
   "source": [
    "import pandas as pd"
   ]
  },
  {
   "cell_type": "code",
   "execution_count": 59,
   "metadata": {},
   "outputs": [],
   "source": [
    "filename = 'ca-500.csv'\n",
    "df = pd.read_csv(filename, delimiter=';')"
   ]
  },
  {
   "cell_type": "code",
   "execution_count": 60,
   "metadata": {},
   "outputs": [
    {
     "data": {
      "text/html": [
       "<div>\n",
       "<style scoped>\n",
       "    .dataframe tbody tr th:only-of-type {\n",
       "        vertical-align: middle;\n",
       "    }\n",
       "\n",
       "    .dataframe tbody tr th {\n",
       "        vertical-align: top;\n",
       "    }\n",
       "\n",
       "    .dataframe thead th {\n",
       "        text-align: right;\n",
       "    }\n",
       "</style>\n",
       "<table border=\"1\" class=\"dataframe\">\n",
       "  <thead>\n",
       "    <tr style=\"text-align: right;\">\n",
       "      <th></th>\n",
       "      <th>first_name</th>\n",
       "      <th>last_name</th>\n",
       "      <th>company_name</th>\n",
       "      <th>address</th>\n",
       "      <th>city</th>\n",
       "      <th>province</th>\n",
       "      <th>postal</th>\n",
       "      <th>phone1</th>\n",
       "      <th>phone2</th>\n",
       "      <th>email</th>\n",
       "      <th>web</th>\n",
       "    </tr>\n",
       "  </thead>\n",
       "  <tbody>\n",
       "    <tr>\n",
       "      <th>0</th>\n",
       "      <td>Francoise</td>\n",
       "      <td>Rautenstrauch</td>\n",
       "      <td>Riebesell, H F Jr</td>\n",
       "      <td>2335 Canton Hwy #6</td>\n",
       "      <td>Windsor</td>\n",
       "      <td>ON</td>\n",
       "      <td>N8N 3N2</td>\n",
       "      <td>519-569-8399</td>\n",
       "      <td>519-978-6179</td>\n",
       "      <td>francoise.rautenstrauch@rautenstrauch.com</td>\n",
       "      <td>http://www.riebesellhfjr.com</td>\n",
       "    </tr>\n",
       "    <tr>\n",
       "      <th>1</th>\n",
       "      <td>Kendra</td>\n",
       "      <td>Loud</td>\n",
       "      <td>Deloitte &amp; Touche</td>\n",
       "      <td>6 Arch St #9757</td>\n",
       "      <td>Alcida</td>\n",
       "      <td>NB</td>\n",
       "      <td>E8J 2C4</td>\n",
       "      <td>506-363-1526</td>\n",
       "      <td>506-932-4472</td>\n",
       "      <td>kloud@gmail.com</td>\n",
       "      <td>http://www.deloittetouche.com</td>\n",
       "    </tr>\n",
       "    <tr>\n",
       "      <th>2</th>\n",
       "      <td>Lourdes</td>\n",
       "      <td>Bauswell</td>\n",
       "      <td>Oklahoma Neon Inc</td>\n",
       "      <td>9547 Belmont Rd #21</td>\n",
       "      <td>Belleville</td>\n",
       "      <td>ON</td>\n",
       "      <td>K8P 1B3</td>\n",
       "      <td>613-903-7043</td>\n",
       "      <td>613-638-6682</td>\n",
       "      <td>lourdes_bauswell@aol.com</td>\n",
       "      <td>http://www.oklahomaneoninc.com</td>\n",
       "    </tr>\n",
       "    <tr>\n",
       "      <th>3</th>\n",
       "      <td>Hannah</td>\n",
       "      <td>Edmison</td>\n",
       "      <td>M B A Paint Stores</td>\n",
       "      <td>73 Pittsford Victor Rd</td>\n",
       "      <td>Vancouver</td>\n",
       "      <td>BC</td>\n",
       "      <td>V5Z 3K2</td>\n",
       "      <td>604-334-3686</td>\n",
       "      <td>604-692-7694</td>\n",
       "      <td>hannah@yahoo.com</td>\n",
       "      <td>http://www.mbapaintstores.com</td>\n",
       "    </tr>\n",
       "    <tr>\n",
       "      <th>4</th>\n",
       "      <td>Tom</td>\n",
       "      <td>Loeza</td>\n",
       "      <td>Sheraton Shreveport Hotel</td>\n",
       "      <td>447 Commercial St Se</td>\n",
       "      <td>LIle-Perrot</td>\n",
       "      <td>QC</td>\n",
       "      <td>J7V 4T4</td>\n",
       "      <td>514-487-6096</td>\n",
       "      <td>514-727-4760</td>\n",
       "      <td>tom.loeza@gmail.com</td>\n",
       "      <td>http://www.sheratonshreveporthotel.com</td>\n",
       "    </tr>\n",
       "    <tr>\n",
       "      <th>...</th>\n",
       "      <td>...</td>\n",
       "      <td>...</td>\n",
       "      <td>...</td>\n",
       "      <td>...</td>\n",
       "      <td>...</td>\n",
       "      <td>...</td>\n",
       "      <td>...</td>\n",
       "      <td>...</td>\n",
       "      <td>...</td>\n",
       "      <td>...</td>\n",
       "      <td>...</td>\n",
       "    </tr>\n",
       "    <tr>\n",
       "      <th>495</th>\n",
       "      <td>Erin</td>\n",
       "      <td>Delbosque</td>\n",
       "      <td>Curtiss Wright Corp</td>\n",
       "      <td>357 W Mount Royal Ave</td>\n",
       "      <td>Longueuil</td>\n",
       "      <td>QC</td>\n",
       "      <td>J4M 2A8</td>\n",
       "      <td>450-316-7813</td>\n",
       "      <td>450-491-8703</td>\n",
       "      <td>erin@cox.net</td>\n",
       "      <td>http://www.curtisswrightcorp.com</td>\n",
       "    </tr>\n",
       "    <tr>\n",
       "      <th>496</th>\n",
       "      <td>Kassandra</td>\n",
       "      <td>Marushia</td>\n",
       "      <td>Phelps Tool &amp; Die Co Inc</td>\n",
       "      <td>123 Euclid Ave #9396</td>\n",
       "      <td>Nanaimo</td>\n",
       "      <td>BC</td>\n",
       "      <td>V9R 1C9</td>\n",
       "      <td>250-646-6446</td>\n",
       "      <td>250-571-5058</td>\n",
       "      <td>kassandra@gmail.com</td>\n",
       "      <td>http://www.phelpstooldiecoinc.com</td>\n",
       "    </tr>\n",
       "    <tr>\n",
       "      <th>497</th>\n",
       "      <td>Leslee</td>\n",
       "      <td>Matsuno</td>\n",
       "      <td>Factory Mattress Outlet</td>\n",
       "      <td>1251 E Main St #990</td>\n",
       "      <td>Quebec</td>\n",
       "      <td>QC</td>\n",
       "      <td>G1H 1A6</td>\n",
       "      <td>418-460-5773</td>\n",
       "      <td>418-543-9015</td>\n",
       "      <td>leslee_matsuno@matsuno.org</td>\n",
       "      <td>http://www.factorymattressoutlet.com</td>\n",
       "    </tr>\n",
       "    <tr>\n",
       "      <th>498</th>\n",
       "      <td>Daniel</td>\n",
       "      <td>Dobler</td>\n",
       "      <td>Cosgroves N End Plbg &amp; Hdwr Co</td>\n",
       "      <td>259 W 17th St #39</td>\n",
       "      <td>Beresford</td>\n",
       "      <td>NB</td>\n",
       "      <td>E8K 1B7</td>\n",
       "      <td>506-617-2607</td>\n",
       "      <td>506-951-8403</td>\n",
       "      <td>ddobler@dobler.com</td>\n",
       "      <td>http://www.cosgrovesnendplbghdwrco.com</td>\n",
       "    </tr>\n",
       "    <tr>\n",
       "      <th>499</th>\n",
       "      <td>Antonio</td>\n",
       "      <td>Unruh</td>\n",
       "      <td>Mission Lincoln Properties</td>\n",
       "      <td>9 Route 38</td>\n",
       "      <td>Port Coquitlam</td>\n",
       "      <td>BC</td>\n",
       "      <td>V3C 2Z4</td>\n",
       "      <td>604-624-7690</td>\n",
       "      <td>604-966-9833</td>\n",
       "      <td>antonio.unruh@hotmail.com</td>\n",
       "      <td>http://www.missionlincolnproperties.com</td>\n",
       "    </tr>\n",
       "  </tbody>\n",
       "</table>\n",
       "<p>500 rows × 11 columns</p>\n",
       "</div>"
      ],
      "text/plain": [
       "    first_name      last_name                    company_name  \\\n",
       "0    Francoise  Rautenstrauch               Riebesell, H F Jr   \n",
       "1       Kendra           Loud               Deloitte & Touche   \n",
       "2      Lourdes       Bauswell               Oklahoma Neon Inc   \n",
       "3       Hannah        Edmison              M B A Paint Stores   \n",
       "4          Tom          Loeza       Sheraton Shreveport Hotel   \n",
       "..         ...            ...                             ...   \n",
       "495       Erin      Delbosque             Curtiss Wright Corp   \n",
       "496  Kassandra       Marushia        Phelps Tool & Die Co Inc   \n",
       "497     Leslee        Matsuno         Factory Mattress Outlet   \n",
       "498     Daniel         Dobler  Cosgroves N End Plbg & Hdwr Co   \n",
       "499    Antonio          Unruh      Mission Lincoln Properties   \n",
       "\n",
       "                    address            city province   postal        phone1  \\\n",
       "0        2335 Canton Hwy #6         Windsor       ON  N8N 3N2  519-569-8399   \n",
       "1           6 Arch St #9757          Alcida       NB  E8J 2C4  506-363-1526   \n",
       "2       9547 Belmont Rd #21      Belleville       ON  K8P 1B3  613-903-7043   \n",
       "3    73 Pittsford Victor Rd       Vancouver       BC  V5Z 3K2  604-334-3686   \n",
       "4      447 Commercial St Se     LIle-Perrot       QC  J7V 4T4  514-487-6096   \n",
       "..                      ...             ...      ...      ...           ...   \n",
       "495   357 W Mount Royal Ave       Longueuil       QC  J4M 2A8  450-316-7813   \n",
       "496    123 Euclid Ave #9396         Nanaimo       BC  V9R 1C9  250-646-6446   \n",
       "497     1251 E Main St #990          Quebec       QC  G1H 1A6  418-460-5773   \n",
       "498       259 W 17th St #39       Beresford       NB  E8K 1B7  506-617-2607   \n",
       "499              9 Route 38  Port Coquitlam       BC  V3C 2Z4  604-624-7690   \n",
       "\n",
       "           phone2                                      email  \\\n",
       "0    519-978-6179  francoise.rautenstrauch@rautenstrauch.com   \n",
       "1    506-932-4472                            kloud@gmail.com   \n",
       "2    613-638-6682                   lourdes_bauswell@aol.com   \n",
       "3    604-692-7694                           hannah@yahoo.com   \n",
       "4    514-727-4760                        tom.loeza@gmail.com   \n",
       "..            ...                                        ...   \n",
       "495  450-491-8703                               erin@cox.net   \n",
       "496  250-571-5058                        kassandra@gmail.com   \n",
       "497  418-543-9015                 leslee_matsuno@matsuno.org   \n",
       "498  506-951-8403                         ddobler@dobler.com   \n",
       "499  604-966-9833                  antonio.unruh@hotmail.com   \n",
       "\n",
       "                                         web  \n",
       "0               http://www.riebesellhfjr.com  \n",
       "1              http://www.deloittetouche.com  \n",
       "2             http://www.oklahomaneoninc.com  \n",
       "3              http://www.mbapaintstores.com  \n",
       "4     http://www.sheratonshreveporthotel.com  \n",
       "..                                       ...  \n",
       "495         http://www.curtisswrightcorp.com  \n",
       "496        http://www.phelpstooldiecoinc.com  \n",
       "497     http://www.factorymattressoutlet.com  \n",
       "498   http://www.cosgrovesnendplbghdwrco.com  \n",
       "499  http://www.missionlincolnproperties.com  \n",
       "\n",
       "[500 rows x 11 columns]"
      ]
     },
     "execution_count": 60,
     "metadata": {},
     "output_type": "execute_result"
    }
   ],
   "source": [
    "df"
   ]
  },
  {
   "cell_type": "code",
   "execution_count": 65,
   "metadata": {},
   "outputs": [
    {
     "data": {
      "text/plain": [
       "(12, 11)"
      ]
     },
     "execution_count": 65,
     "metadata": {},
     "output_type": "execute_result"
    }
   ],
   "source": [
    "df[df['city']=='Montreal']"
   ]
  },
  {
   "cell_type": "code",
   "execution_count": null,
   "metadata": {},
   "outputs": [],
   "source": []
  }
 ],
 "metadata": {
  "kernelspec": {
   "display_name": "Python 3",
   "language": "python",
   "name": "python3"
  },
  "language_info": {
   "codemirror_mode": {
    "name": "ipython",
    "version": 3
   },
   "file_extension": ".py",
   "mimetype": "text/x-python",
   "name": "python",
   "nbconvert_exporter": "python",
   "pygments_lexer": "ipython3",
   "version": "3.8.5"
  }
 },
 "nbformat": 4,
 "nbformat_minor": 4
}
